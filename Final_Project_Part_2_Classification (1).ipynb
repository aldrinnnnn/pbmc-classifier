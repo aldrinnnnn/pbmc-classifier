{
 "cells": [
  {
   "cell_type": "code",
   "execution_count": 111,
   "metadata": {
    "id": "y_Dn9rzyiqxi"
   },
   "outputs": [],
   "source": [
    "import pandas as pd\n",
    "import numpy as np\n",
    "import torch\n",
    "import torch.nn as nn\n",
    "import torch.nn.functional as F\n",
    "\n",
    "from sklearn.ensemble import RandomForestClassifier\n",
    "from sklearn.ensemble import GradientBoostingClassifier\n",
    "from sklearn.model_selection import train_test_split\n",
    "from sklearn.metrics import accuracy_score, classification_report\n",
    "\n",
    "import matplotlib.pyplot as plt\n",
    "import seaborn as sns"
   ]
  },
  {
   "cell_type": "markdown",
   "metadata": {
    "id": "GGLKx-6qiz-_"
   },
   "source": [
    "Upload the labels.csv and processed_counts.csv files to colab or your local workspace.\n",
    "\n",
    "**Copied from Part 1:**\n",
    "This data associates a cell barcode, such as \"AAAGCCTGGCTAAC-1\", to a certain cell type label, such as \"CD14+ Monocyte\". For each cell barcode, there are also log RNA seq counts of 765 different genes, such as HES4.\n",
    "\n",
    "label.csv stores the association between a cell barcode and a cell type label.\n",
    "\n",
    "processed_counts.csv stores the normalized log read counts for each cell, where each row represents a single cell, and each column represents a gene."
   ]
  },
  {
   "cell_type": "code",
   "execution_count": 41,
   "metadata": {
    "id": "WelsjSzviy4m"
   },
   "outputs": [],
   "source": [
    "labels_pd = pd.read_csv(\"labels.csv\")\n",
    "counts_pd = pd.read_csv(\"processed_counts.csv\")"
   ]
  },
  {
   "cell_type": "code",
   "execution_count": 42,
   "metadata": {
    "colab": {
     "base_uri": "https://localhost:8080/",
     "height": 592
    },
    "id": "aIX8kcTXi7EV",
    "outputId": "aacbc984-4c80-42bd-d4d5-01bd54f12ca8"
   },
   "outputs": [
    {
     "data": {
      "text/html": [
       "<div>\n",
       "<style scoped>\n",
       "    .dataframe tbody tr th:only-of-type {\n",
       "        vertical-align: middle;\n",
       "    }\n",
       "\n",
       "    .dataframe tbody tr th {\n",
       "        vertical-align: top;\n",
       "    }\n",
       "\n",
       "    .dataframe thead th {\n",
       "        text-align: right;\n",
       "    }\n",
       "</style>\n",
       "<table border=\"1\" class=\"dataframe\">\n",
       "  <thead>\n",
       "    <tr style=\"text-align: right;\">\n",
       "      <th></th>\n",
       "      <th>HES4</th>\n",
       "      <th>TNFRSF4</th>\n",
       "      <th>SSU72</th>\n",
       "      <th>PARK7</th>\n",
       "      <th>RBP7</th>\n",
       "      <th>SRM</th>\n",
       "      <th>MAD2L2</th>\n",
       "      <th>AGTRAP</th>\n",
       "      <th>TNFRSF1B</th>\n",
       "      <th>EFHD2</th>\n",
       "      <th>...</th>\n",
       "      <th>MRPS6</th>\n",
       "      <th>TTC3</th>\n",
       "      <th>U2AF1</th>\n",
       "      <th>CSTB</th>\n",
       "      <th>SUMO3</th>\n",
       "      <th>ITGB2</th>\n",
       "      <th>S100B</th>\n",
       "      <th>PRMT2</th>\n",
       "      <th>MT-ND3</th>\n",
       "      <th>bulk_labels</th>\n",
       "    </tr>\n",
       "  </thead>\n",
       "  <tbody>\n",
       "    <tr>\n",
       "      <th>AAAGCCTGGCTAAC-1</th>\n",
       "      <td>-0.326</td>\n",
       "      <td>-0.191</td>\n",
       "      <td>-0.728</td>\n",
       "      <td>-0.301</td>\n",
       "      <td>3.386</td>\n",
       "      <td>-0.531</td>\n",
       "      <td>2.016</td>\n",
       "      <td>3.377</td>\n",
       "      <td>4.841</td>\n",
       "      <td>-0.525</td>\n",
       "      <td>...</td>\n",
       "      <td>-0.532</td>\n",
       "      <td>-0.341</td>\n",
       "      <td>0.303</td>\n",
       "      <td>1.404</td>\n",
       "      <td>4.294</td>\n",
       "      <td>0.519</td>\n",
       "      <td>-0.21</td>\n",
       "      <td>-0.636</td>\n",
       "      <td>4.011</td>\n",
       "      <td>CD14+ Monocyte</td>\n",
       "    </tr>\n",
       "    <tr>\n",
       "      <th>AAATTCGATGCACA-1</th>\n",
       "      <td>1.171</td>\n",
       "      <td>-0.191</td>\n",
       "      <td>0.795</td>\n",
       "      <td>-1.200</td>\n",
       "      <td>-0.174</td>\n",
       "      <td>-0.531</td>\n",
       "      <td>1.889</td>\n",
       "      <td>-0.486</td>\n",
       "      <td>-0.459</td>\n",
       "      <td>-0.525</td>\n",
       "      <td>...</td>\n",
       "      <td>-0.532</td>\n",
       "      <td>-0.341</td>\n",
       "      <td>-0.905</td>\n",
       "      <td>2.849</td>\n",
       "      <td>-0.585</td>\n",
       "      <td>1.172</td>\n",
       "      <td>-0.21</td>\n",
       "      <td>2.630</td>\n",
       "      <td>-0.490</td>\n",
       "      <td>Dendritic</td>\n",
       "    </tr>\n",
       "    <tr>\n",
       "      <th>AACACGTGGTCTTT-1</th>\n",
       "      <td>-0.326</td>\n",
       "      <td>-0.191</td>\n",
       "      <td>0.483</td>\n",
       "      <td>-1.200</td>\n",
       "      <td>-0.174</td>\n",
       "      <td>-0.531</td>\n",
       "      <td>-0.451</td>\n",
       "      <td>0.971</td>\n",
       "      <td>-0.459</td>\n",
       "      <td>2.286</td>\n",
       "      <td>...</td>\n",
       "      <td>2.606</td>\n",
       "      <td>-0.341</td>\n",
       "      <td>-0.905</td>\n",
       "      <td>-0.455</td>\n",
       "      <td>-0.585</td>\n",
       "      <td>0.722</td>\n",
       "      <td>-0.21</td>\n",
       "      <td>0.663</td>\n",
       "      <td>-0.490</td>\n",
       "      <td>CD56+ NK</td>\n",
       "    </tr>\n",
       "    <tr>\n",
       "      <th>AAGTGCACGTGCTA-1</th>\n",
       "      <td>-0.326</td>\n",
       "      <td>-0.191</td>\n",
       "      <td>1.134</td>\n",
       "      <td>-0.157</td>\n",
       "      <td>-0.174</td>\n",
       "      <td>-0.531</td>\n",
       "      <td>-0.451</td>\n",
       "      <td>-0.486</td>\n",
       "      <td>-0.459</td>\n",
       "      <td>-0.525</td>\n",
       "      <td>...</td>\n",
       "      <td>-0.532</td>\n",
       "      <td>-0.341</td>\n",
       "      <td>-0.905</td>\n",
       "      <td>-0.119</td>\n",
       "      <td>-0.585</td>\n",
       "      <td>0.766</td>\n",
       "      <td>-0.21</td>\n",
       "      <td>-0.636</td>\n",
       "      <td>-0.490</td>\n",
       "      <td>CD4+/CD25 T Reg</td>\n",
       "    </tr>\n",
       "    <tr>\n",
       "      <th>ACACGAACGGAGTG-1</th>\n",
       "      <td>-0.326</td>\n",
       "      <td>-0.191</td>\n",
       "      <td>-0.728</td>\n",
       "      <td>-0.607</td>\n",
       "      <td>-0.174</td>\n",
       "      <td>-0.531</td>\n",
       "      <td>-0.451</td>\n",
       "      <td>0.787</td>\n",
       "      <td>-0.459</td>\n",
       "      <td>1.932</td>\n",
       "      <td>...</td>\n",
       "      <td>0.839</td>\n",
       "      <td>1.679</td>\n",
       "      <td>-0.108</td>\n",
       "      <td>-0.534</td>\n",
       "      <td>-0.585</td>\n",
       "      <td>-0.007</td>\n",
       "      <td>-0.21</td>\n",
       "      <td>-0.636</td>\n",
       "      <td>-0.490</td>\n",
       "      <td>Dendritic</td>\n",
       "    </tr>\n",
       "    <tr>\n",
       "      <th>...</th>\n",
       "      <td>...</td>\n",
       "      <td>...</td>\n",
       "      <td>...</td>\n",
       "      <td>...</td>\n",
       "      <td>...</td>\n",
       "      <td>...</td>\n",
       "      <td>...</td>\n",
       "      <td>...</td>\n",
       "      <td>...</td>\n",
       "      <td>...</td>\n",
       "      <td>...</td>\n",
       "      <td>...</td>\n",
       "      <td>...</td>\n",
       "      <td>...</td>\n",
       "      <td>...</td>\n",
       "      <td>...</td>\n",
       "      <td>...</td>\n",
       "      <td>...</td>\n",
       "      <td>...</td>\n",
       "      <td>...</td>\n",
       "      <td>...</td>\n",
       "    </tr>\n",
       "    <tr>\n",
       "      <th>TGGCACCTCCAACA-8</th>\n",
       "      <td>-0.326</td>\n",
       "      <td>-0.191</td>\n",
       "      <td>0.372</td>\n",
       "      <td>-0.584</td>\n",
       "      <td>-0.174</td>\n",
       "      <td>0.509</td>\n",
       "      <td>-0.451</td>\n",
       "      <td>2.160</td>\n",
       "      <td>-0.459</td>\n",
       "      <td>0.751</td>\n",
       "      <td>...</td>\n",
       "      <td>-0.532</td>\n",
       "      <td>1.758</td>\n",
       "      <td>1.578</td>\n",
       "      <td>0.055</td>\n",
       "      <td>-0.585</td>\n",
       "      <td>0.561</td>\n",
       "      <td>-0.21</td>\n",
       "      <td>0.543</td>\n",
       "      <td>2.593</td>\n",
       "      <td>Dendritic</td>\n",
       "    </tr>\n",
       "    <tr>\n",
       "      <th>TGTGAGTGCTTTAC-8</th>\n",
       "      <td>3.166</td>\n",
       "      <td>-0.191</td>\n",
       "      <td>-0.728</td>\n",
       "      <td>-1.200</td>\n",
       "      <td>-0.174</td>\n",
       "      <td>-0.531</td>\n",
       "      <td>-0.451</td>\n",
       "      <td>-0.486</td>\n",
       "      <td>-0.459</td>\n",
       "      <td>1.536</td>\n",
       "      <td>...</td>\n",
       "      <td>-0.532</td>\n",
       "      <td>-0.341</td>\n",
       "      <td>0.432</td>\n",
       "      <td>0.753</td>\n",
       "      <td>-0.585</td>\n",
       "      <td>-0.171</td>\n",
       "      <td>-0.21</td>\n",
       "      <td>1.268</td>\n",
       "      <td>-0.490</td>\n",
       "      <td>Dendritic</td>\n",
       "    </tr>\n",
       "    <tr>\n",
       "      <th>TGTTACTGGCGATT-8</th>\n",
       "      <td>-0.326</td>\n",
       "      <td>-0.191</td>\n",
       "      <td>-0.728</td>\n",
       "      <td>-1.200</td>\n",
       "      <td>-0.174</td>\n",
       "      <td>1.784</td>\n",
       "      <td>-0.451</td>\n",
       "      <td>-0.486</td>\n",
       "      <td>-0.459</td>\n",
       "      <td>-0.525</td>\n",
       "      <td>...</td>\n",
       "      <td>-0.532</td>\n",
       "      <td>-0.341</td>\n",
       "      <td>1.858</td>\n",
       "      <td>0.814</td>\n",
       "      <td>-0.585</td>\n",
       "      <td>0.152</td>\n",
       "      <td>-0.21</td>\n",
       "      <td>-0.636</td>\n",
       "      <td>1.226</td>\n",
       "      <td>CD4+/CD25 T Reg</td>\n",
       "    </tr>\n",
       "    <tr>\n",
       "      <th>TTCAGTACCGGGAA-8</th>\n",
       "      <td>-0.326</td>\n",
       "      <td>-0.191</td>\n",
       "      <td>-0.728</td>\n",
       "      <td>-0.386</td>\n",
       "      <td>-0.174</td>\n",
       "      <td>-0.531</td>\n",
       "      <td>-0.451</td>\n",
       "      <td>-0.486</td>\n",
       "      <td>-0.459</td>\n",
       "      <td>-0.525</td>\n",
       "      <td>...</td>\n",
       "      <td>-0.532</td>\n",
       "      <td>-0.341</td>\n",
       "      <td>2.378</td>\n",
       "      <td>0.420</td>\n",
       "      <td>0.888</td>\n",
       "      <td>-0.326</td>\n",
       "      <td>-0.21</td>\n",
       "      <td>-0.636</td>\n",
       "      <td>-0.490</td>\n",
       "      <td>CD19+ B</td>\n",
       "    </tr>\n",
       "    <tr>\n",
       "      <th>TTGAGGTGGAGAGC-8</th>\n",
       "      <td>-0.326</td>\n",
       "      <td>-0.191</td>\n",
       "      <td>0.148</td>\n",
       "      <td>0.762</td>\n",
       "      <td>-0.174</td>\n",
       "      <td>0.298</td>\n",
       "      <td>-0.451</td>\n",
       "      <td>-0.486</td>\n",
       "      <td>0.505</td>\n",
       "      <td>-0.525</td>\n",
       "      <td>...</td>\n",
       "      <td>-0.532</td>\n",
       "      <td>-0.341</td>\n",
       "      <td>1.073</td>\n",
       "      <td>-0.628</td>\n",
       "      <td>-0.585</td>\n",
       "      <td>0.239</td>\n",
       "      <td>-0.21</td>\n",
       "      <td>-0.636</td>\n",
       "      <td>-0.490</td>\n",
       "      <td>Dendritic</td>\n",
       "    </tr>\n",
       "  </tbody>\n",
       "</table>\n",
       "<p>700 rows × 766 columns</p>\n",
       "</div>"
      ],
      "text/plain": [
       "                   HES4  TNFRSF4  SSU72  PARK7   RBP7    SRM  MAD2L2  AGTRAP  \\\n",
       "AAAGCCTGGCTAAC-1 -0.326   -0.191 -0.728 -0.301  3.386 -0.531   2.016   3.377   \n",
       "AAATTCGATGCACA-1  1.171   -0.191  0.795 -1.200 -0.174 -0.531   1.889  -0.486   \n",
       "AACACGTGGTCTTT-1 -0.326   -0.191  0.483 -1.200 -0.174 -0.531  -0.451   0.971   \n",
       "AAGTGCACGTGCTA-1 -0.326   -0.191  1.134 -0.157 -0.174 -0.531  -0.451  -0.486   \n",
       "ACACGAACGGAGTG-1 -0.326   -0.191 -0.728 -0.607 -0.174 -0.531  -0.451   0.787   \n",
       "...                 ...      ...    ...    ...    ...    ...     ...     ...   \n",
       "TGGCACCTCCAACA-8 -0.326   -0.191  0.372 -0.584 -0.174  0.509  -0.451   2.160   \n",
       "TGTGAGTGCTTTAC-8  3.166   -0.191 -0.728 -1.200 -0.174 -0.531  -0.451  -0.486   \n",
       "TGTTACTGGCGATT-8 -0.326   -0.191 -0.728 -1.200 -0.174  1.784  -0.451  -0.486   \n",
       "TTCAGTACCGGGAA-8 -0.326   -0.191 -0.728 -0.386 -0.174 -0.531  -0.451  -0.486   \n",
       "TTGAGGTGGAGAGC-8 -0.326   -0.191  0.148  0.762 -0.174  0.298  -0.451  -0.486   \n",
       "\n",
       "                  TNFRSF1B  EFHD2  ...  MRPS6   TTC3  U2AF1   CSTB  SUMO3  \\\n",
       "AAAGCCTGGCTAAC-1     4.841 -0.525  ... -0.532 -0.341  0.303  1.404  4.294   \n",
       "AAATTCGATGCACA-1    -0.459 -0.525  ... -0.532 -0.341 -0.905  2.849 -0.585   \n",
       "AACACGTGGTCTTT-1    -0.459  2.286  ...  2.606 -0.341 -0.905 -0.455 -0.585   \n",
       "AAGTGCACGTGCTA-1    -0.459 -0.525  ... -0.532 -0.341 -0.905 -0.119 -0.585   \n",
       "ACACGAACGGAGTG-1    -0.459  1.932  ...  0.839  1.679 -0.108 -0.534 -0.585   \n",
       "...                    ...    ...  ...    ...    ...    ...    ...    ...   \n",
       "TGGCACCTCCAACA-8    -0.459  0.751  ... -0.532  1.758  1.578  0.055 -0.585   \n",
       "TGTGAGTGCTTTAC-8    -0.459  1.536  ... -0.532 -0.341  0.432  0.753 -0.585   \n",
       "TGTTACTGGCGATT-8    -0.459 -0.525  ... -0.532 -0.341  1.858  0.814 -0.585   \n",
       "TTCAGTACCGGGAA-8    -0.459 -0.525  ... -0.532 -0.341  2.378  0.420  0.888   \n",
       "TTGAGGTGGAGAGC-8     0.505 -0.525  ... -0.532 -0.341  1.073 -0.628 -0.585   \n",
       "\n",
       "                  ITGB2  S100B  PRMT2  MT-ND3      bulk_labels  \n",
       "AAAGCCTGGCTAAC-1  0.519  -0.21 -0.636   4.011   CD14+ Monocyte  \n",
       "AAATTCGATGCACA-1  1.172  -0.21  2.630  -0.490        Dendritic  \n",
       "AACACGTGGTCTTT-1  0.722  -0.21  0.663  -0.490         CD56+ NK  \n",
       "AAGTGCACGTGCTA-1  0.766  -0.21 -0.636  -0.490  CD4+/CD25 T Reg  \n",
       "ACACGAACGGAGTG-1 -0.007  -0.21 -0.636  -0.490        Dendritic  \n",
       "...                 ...    ...    ...     ...              ...  \n",
       "TGGCACCTCCAACA-8  0.561  -0.21  0.543   2.593        Dendritic  \n",
       "TGTGAGTGCTTTAC-8 -0.171  -0.21  1.268  -0.490        Dendritic  \n",
       "TGTTACTGGCGATT-8  0.152  -0.21 -0.636   1.226  CD4+/CD25 T Reg  \n",
       "TTCAGTACCGGGAA-8 -0.326  -0.21 -0.636  -0.490          CD19+ B  \n",
       "TTGAGGTGGAGAGC-8  0.239  -0.21 -0.636  -0.490        Dendritic  \n",
       "\n",
       "[700 rows x 766 columns]"
      ]
     },
     "execution_count": 42,
     "metadata": {},
     "output_type": "execute_result"
    }
   ],
   "source": [
    "labels_pd.index = labels_pd['index']\n",
    "labels_pd.drop(\"index\", axis=1, inplace=True)\n",
    "counts_pd.index = counts_pd['Unnamed: 0']\n",
    "counts_pd.drop(\"Unnamed: 0\", axis=1, inplace=True)\n",
    "\n",
    "df = counts_pd.merge(labels_pd, left_index=True, right_index=True).dropna()\n",
    "df"
   ]
  },
  {
   "cell_type": "markdown",
   "metadata": {
    "id": "wUxSCyz7jBQf"
   },
   "source": [
    "One-hot encode the cell-type.\n",
    "\n",
    "Shuffle your data. Make sure your labels and the counts are shuffled together.\n",
    "\n",
    "Split into train and test sets (80:20 split)"
   ]
  },
  {
   "cell_type": "code",
   "execution_count": 50,
   "metadata": {
    "colab": {
     "base_uri": "https://localhost:8080/"
    },
    "id": "XDTqBhcA7V8t",
    "outputId": "f30f081b-ccb4-4076-f774-f31c4f240951"
   },
   "outputs": [
    {
     "name": "stdout",
     "output_type": "stream",
     "text": [
      "['CD14+ Monocyte' 'Dendritic' 'CD56+ NK' 'CD4+/CD25 T Reg' 'CD19+ B'\n",
      " 'CD8+ Cytotoxic T' 'CD4+/CD45RO+ Memory' 'CD8+/CD45RA+ Naive Cytotoxic'\n",
      " 'CD4+/CD45RA+/CD25- Naive T' 'CD34+']\n"
     ]
    },
    {
     "name": "stderr",
     "output_type": "stream",
     "text": [
      "/var/folders/rj/9rycj1kx7216zcx0fpf1_9p40000gn/T/ipykernel_12175/2298712832.py:18: FutureWarning: Series.__getitem__ treating keys as positions is deprecated. In a future version, integer keys will always be treated as labels (consistent with DataFrame behavior). To access a value by position, use `ser.iloc[pos]`\n",
      "  X, y, labels_y = X[permutation], y[permutation], labels_y[permutation]\n"
     ]
    }
   ],
   "source": [
    "categories = df['bulk_labels'].unique()\n",
    "print(categories)\n",
    "\n",
    "#one-hot encoding\n",
    "y = np.zeros((len(df), len(categories)))\n",
    "for i in range(len(df)):\n",
    "  cell_type = df.iloc[i]['bulk_labels']\n",
    "  pos = np.where(categories == cell_type)[0]\n",
    "  y[i, pos] = 1\n",
    "\n",
    "#remove label when processing input data\n",
    "X = df.drop('bulk_labels', axis=1).values\n",
    "labels_y = df.loc[:, 'bulk_labels']\n",
    "\n",
    "#shufle and 80:20 split\n",
    "np.random.seed(100)\n",
    "permutation = np.random.permutation(len(X))\n",
    "X, y, labels_y = X[permutation], y[permutation], labels_y[permutation]\n",
    "\n",
    "X_train, y_train = X[:int(len(X)*0.8)], y[:int(len(y)*0.8)]\n",
    "X_test, y_test = X[int(len(X)*0.8):], y[int(len(y)*0.8):]"
   ]
  },
  {
   "cell_type": "code",
   "execution_count": 51,
   "metadata": {
    "colab": {
     "base_uri": "https://localhost:8080/",
     "height": 854
    },
    "id": "l0Xrhu4LZNa9",
    "outputId": "0c62d1cb-7cfc-4e11-ec81-0a5b474f116f"
   },
   "outputs": [
    {
     "data": {
      "text/plain": [
       "<matplotlib.image.AxesImage at 0x28c990c40>"
      ]
     },
     "execution_count": 51,
     "metadata": {},
     "output_type": "execute_result"
    },
    {
     "data": {
      "image/png": "[encoded data removed]",
      "text/plain": [
       "<Figure size 2700x900 with 1 Axes>"
      ]
     },
     "metadata": {},
     "output_type": "display_data"
    }
   ],
   "source": [
    "#Visualize the One-hot encoded Prediction Labels\n",
    "import matplotlib.pyplot as plt\n",
    "plt.figure(figsize=(9,3), dpi=300)\n",
    "plt.imshow(y_train[:50])"
   ]
  },
  {
   "cell_type": "markdown",
   "metadata": {
    "id": "XHIg7i1k7U-G"
   },
   "source": [
    "Apply classification algorithms to the training data, tune on validation data (if present), and evaluate on test data.\n",
    "\n",
    "You can also apply classification downstream of last week's autoencoder latent space representation."
   ]
  },
  {
   "cell_type": "code",
   "execution_count": 61,
   "metadata": {},
   "outputs": [],
   "source": [
    "#FF Neural Network \n",
    "class PBMC_Network(nn.Module):\n",
    "    def __init__(self):\n",
    "        super().__init__()\n",
    "\n",
    "        \"\"\"\n",
    "        Define your layers here.\n",
    "        \"\"\"\n",
    "        in_out_dim = 765\n",
    "        latent_space = 32\n",
    "\n",
    "        self.input_layer = nn.Linear(in_out_dim, 128)\n",
    "        self.hidden_enc1 = nn.Linear(128, 64)\n",
    "        self.hidden_enc2 = nn.Linear(64, latent_space)\n",
    "        self.output_layer = nn.Linear(latent_space, 10)\n",
    "        \n",
    "\n",
    "    def forward(self, X):\n",
    "\n",
    "        \"\"\"\n",
    "        Design the process of your network.\n",
    "        \"\"\"\n",
    "        X = self.input_layer(X)\n",
    "        X = F.relu(X)\n",
    "\n",
    "        X = self.hidden_enc1(X)\n",
    "        X = F.relu(X)\n",
    "\n",
    "        X = self.hidden_enc2(X)\n",
    "        X = F.relu(X)\n",
    "\n",
    "        logits = self.output_layer(X)\n",
    "        return logits\n",
    "    \n",
    "    def classify(self, X):\n",
    "         \"\"\"\n",
    "        Q:  create a function classify that will take in X data points and produce\n",
    "            the predicted classification of these points.\n",
    "\n",
    "        HINT: use torch.softmax() and torch.argmax()! you NEED them.\n",
    "\n",
    "        Inputs\n",
    "        - X: the torch.tensor matrix to be classified with shape (N, D)\n",
    "\n",
    "        Outputs\n",
    "        - labels: a torch.tensor with the shape (N, ), each item being X[i]'s\n",
    "                  classification prediction\n",
    "        \"\"\"\n",
    "         X = torch.tensor(X).type(torch.float32)     # enforce smooth-running with the model\n",
    "         logits = self(X)    #array of numbers that correspond to each class representing the output layer\n",
    "         y = torch.softmax(logits, dim=1)  #pass the elements of the output layer in the activation function; dim: 0 each col sums to 1 and dim: 1 each row sums to 1 (each column is a class, so we want the probability of each class by doing dim = 1)\n",
    "         labels = torch.argmax(y, dim=1)\n",
    "         return labels.type(torch.long)"
   ]
  },
  {
   "cell_type": "code",
   "execution_count": 72,
   "metadata": {},
   "outputs": [
    {
     "data": {
      "text/plain": [
       "torch.Size([2, 10])"
      ]
     },
     "execution_count": 72,
     "metadata": {},
     "output_type": "execute_result"
    }
   ],
   "source": [
    "model = PBMC_Network()\n",
    "X_train_tens, y_train_tens = torch.tensor(X_train).type(torch.float32), torch.tensor(y_train).type(torch.long)\n",
    "X_test_tens, y_test_tens = torch.tensor(X_test).type(torch.float32), torch.tensor(y_test).type(torch.long)\n",
    "out = model(X_train_tens[:2])\n",
    "out.shape"
   ]
  },
  {
   "cell_type": "code",
   "execution_count": 69,
   "metadata": {},
   "outputs": [
    {
     "data": {
      "text/plain": [
       "(tensor([[-0.3260, -0.1910, -0.7280,  ..., -0.2100, -0.6360, -0.4900],\n",
       "         [-0.3260, -0.1910, -0.7280,  ..., -0.2100,  2.1340, -0.4900]]),\n",
       " tensor([[0, 0, 0, 0, 0, 1, 0, 0, 0, 0],\n",
       "         [0, 0, 0, 0, 0, 0, 0, 1, 0, 0]]))"
      ]
     },
     "execution_count": 69,
     "metadata": {},
     "output_type": "execute_result"
    }
   ],
   "source": [
    "X_train_tens[:2], y_train_tens[:2]"
   ]
  },
  {
   "cell_type": "code",
   "execution_count": 80,
   "metadata": {},
   "outputs": [
    {
     "name": "stderr",
     "output_type": "stream",
     "text": [
      "/var/folders/rj/9rycj1kx7216zcx0fpf1_9p40000gn/T/ipykernel_12175/2399466848.py:48: UserWarning: To copy construct from a tensor, it is recommended to use sourceTensor.clone().detach() or sourceTensor.clone().detach().requires_grad_(True), rather than torch.tensor(sourceTensor).\n",
      "  X = torch.tensor(X).type(torch.float32)     # enforce smooth-running with the model\n"
     ]
    },
    {
     "data": {
      "text/plain": [
       "tensor([5, 4])"
      ]
     },
     "execution_count": 80,
     "metadata": {},
     "output_type": "execute_result"
    }
   ],
   "source": [
    "model.classify(X_train_tens[:2])"
   ]
  },
  {
   "cell_type": "code",
   "execution_count": 105,
   "metadata": {},
   "outputs": [],
   "source": [
    "def train(model, X_train, y_train, X_val, y_val, epochs=15, batch_size=32, lr=1e-3):\n",
    "    \"\"\"\n",
    "    Q:  write the training loop following the schema shown above.\n",
    "\n",
    "    Inputs\n",
    "    - model: the model to be trained - a PyTorch nn.Module class object\n",
    "    - X_train, y_train, X_val, y_val: training and validation data\n",
    "    - epochs: num epochs, or the number of times we want to run through the entire training data\n",
    "    - batch_size: number of data points per batch\n",
    "    - lr: learning rate\n",
    "    - optimizer: optimizer used\n",
    "\n",
    "    Outputs\n",
    "    - losses: a list of losses\n",
    "    - accuracies: a list of validation accuracies\n",
    "    - train_accs: a list of training accuracies\n",
    "    \"\"\"\n",
    "\n",
    "    batches = int(X_train.shape[0] / batch_size)  # # using batch_size, determine the number of batches needed\n",
    "\n",
    "    loss_fn = nn.CrossEntropyLoss()                             # read the write-up for an explanation on CrossEntropyLoss()\n",
    "    optimizer = torch.optim.Adam(model.parameters(), lr=lr)     # read the write-up for an explanation on Adam\n",
    "\n",
    "    losses = []\n",
    "    train_accs = []\n",
    "    accuracies = []\n",
    "\n",
    "    for epoch in range(epochs):\n",
    "        for i in range(batches):\n",
    "            X_batch = X_train[i * batch_size: i * batch_size + batch_size] #\n",
    "            y_batch = y_train[i * batch_size: i * batch_size + batch_size] #\n",
    "\n",
    "            logits = model(X_batch) \n",
    "\n",
    "            loss = loss_fn(logits, y_batch.float())\n",
    "\n",
    "\n",
    "            # these 3 functions will follow you whenever you train a model with PyTorch\n",
    "            optimizer.zero_grad()   # erases the gradients from the previous epoch (sets all gradients to 0)\n",
    "            loss.backward()         # calculates the gradients with respect to every single weight matrix in the model\n",
    "            optimizer.step()        # takes ONE learning step with the gradients just calculated\n",
    "\n",
    "        # feel free to use sklearn's accuracy_score function\n",
    "        # calculate the training accuracy\n",
    "\n",
    "        y_train_arg = torch.argmax(y_train, dim=1)\n",
    "        y_val_arg = torch.argmax(y_val, dim=1)\n",
    "\n",
    "        train_accs = np.append(train_accs, accuracy_score(model.classify(X_train), y_train_arg)) #\n",
    "        accuracy = train_accs[-1]\n",
    "\n",
    "        # calculate the validation accuracy and append the loss of this epoch\n",
    "\n",
    "        accuracies = np.append(accuracies, accuracy_score(model.classify(X_val), y_val_arg))\n",
    "\n",
    "        losses = np.append(losses, loss_fn(model(X_val), y_val.float()).detach().numpy())\n",
    "\n",
    "        # print epoch, loss, and current test accuracy\n",
    "        print(f\"Epoch {epoch}:\\tloss {loss} & accuracy {accuracy}\")\n",
    "\n",
    "    return losses, accuracies, train_accs"
   ]
  },
  {
   "cell_type": "code",
   "execution_count": 106,
   "metadata": {},
   "outputs": [
    {
     "name": "stdout",
     "output_type": "stream",
     "text": [
      "Epoch 0:\tloss 0.008180826902389526 & accuracy 0.9928571428571429\n",
      "Epoch 1:\tloss 0.0011855708435177803 & accuracy 0.9946428571428572\n",
      "Epoch 2:\tloss 5.0674676458584145e-05 & accuracy 0.9910714285714286\n",
      "Epoch 3:\tloss 2.5179944714182056e-05 & accuracy 0.9928571428571429\n",
      "Epoch 4:\tloss 2.3131751731853e-05 & accuracy 0.9928571428571429\n"
     ]
    },
    {
     "name": "stderr",
     "output_type": "stream",
     "text": [
      "/var/folders/rj/9rycj1kx7216zcx0fpf1_9p40000gn/T/ipykernel_12175/2399466848.py:48: UserWarning: To copy construct from a tensor, it is recommended to use sourceTensor.clone().detach() or sourceTensor.clone().detach().requires_grad_(True), rather than torch.tensor(sourceTensor).\n",
      "  X = torch.tensor(X).type(torch.float32)     # enforce smooth-running with the model\n",
      "/var/folders/rj/9rycj1kx7216zcx0fpf1_9p40000gn/T/ipykernel_12175/2399466848.py:48: UserWarning: To copy construct from a tensor, it is recommended to use sourceTensor.clone().detach() or sourceTensor.clone().detach().requires_grad_(True), rather than torch.tensor(sourceTensor).\n",
      "  X = torch.tensor(X).type(torch.float32)     # enforce smooth-running with the model\n",
      "/var/folders/rj/9rycj1kx7216zcx0fpf1_9p40000gn/T/ipykernel_12175/2399466848.py:48: UserWarning: To copy construct from a tensor, it is recommended to use sourceTensor.clone().detach() or sourceTensor.clone().detach().requires_grad_(True), rather than torch.tensor(sourceTensor).\n",
      "  X = torch.tensor(X).type(torch.float32)     # enforce smooth-running with the model\n",
      "/var/folders/rj/9rycj1kx7216zcx0fpf1_9p40000gn/T/ipykernel_12175/2399466848.py:48: UserWarning: To copy construct from a tensor, it is recommended to use sourceTensor.clone().detach() or sourceTensor.clone().detach().requires_grad_(True), rather than torch.tensor(sourceTensor).\n",
      "  X = torch.tensor(X).type(torch.float32)     # enforce smooth-running with the model\n",
      "/var/folders/rj/9rycj1kx7216zcx0fpf1_9p40000gn/T/ipykernel_12175/2399466848.py:48: UserWarning: To copy construct from a tensor, it is recommended to use sourceTensor.clone().detach() or sourceTensor.clone().detach().requires_grad_(True), rather than torch.tensor(sourceTensor).\n",
      "  X = torch.tensor(X).type(torch.float32)     # enforce smooth-running with the model\n",
      "/var/folders/rj/9rycj1kx7216zcx0fpf1_9p40000gn/T/ipykernel_12175/2399466848.py:48: UserWarning: To copy construct from a tensor, it is recommended to use sourceTensor.clone().detach() or sourceTensor.clone().detach().requires_grad_(True), rather than torch.tensor(sourceTensor).\n",
      "  X = torch.tensor(X).type(torch.float32)     # enforce smooth-running with the model\n",
      "/var/folders/rj/9rycj1kx7216zcx0fpf1_9p40000gn/T/ipykernel_12175/2399466848.py:48: UserWarning: To copy construct from a tensor, it is recommended to use sourceTensor.clone().detach() or sourceTensor.clone().detach().requires_grad_(True), rather than torch.tensor(sourceTensor).\n",
      "  X = torch.tensor(X).type(torch.float32)     # enforce smooth-running with the model\n",
      "/var/folders/rj/9rycj1kx7216zcx0fpf1_9p40000gn/T/ipykernel_12175/2399466848.py:48: UserWarning: To copy construct from a tensor, it is recommended to use sourceTensor.clone().detach() or sourceTensor.clone().detach().requires_grad_(True), rather than torch.tensor(sourceTensor).\n",
      "  X = torch.tensor(X).type(torch.float32)     # enforce smooth-running with the model\n",
      "/var/folders/rj/9rycj1kx7216zcx0fpf1_9p40000gn/T/ipykernel_12175/2399466848.py:48: UserWarning: To copy construct from a tensor, it is recommended to use sourceTensor.clone().detach() or sourceTensor.clone().detach().requires_grad_(True), rather than torch.tensor(sourceTensor).\n",
      "  X = torch.tensor(X).type(torch.float32)     # enforce smooth-running with the model\n",
      "/var/folders/rj/9rycj1kx7216zcx0fpf1_9p40000gn/T/ipykernel_12175/2399466848.py:48: UserWarning: To copy construct from a tensor, it is recommended to use sourceTensor.clone().detach() or sourceTensor.clone().detach().requires_grad_(True), rather than torch.tensor(sourceTensor).\n",
      "  X = torch.tensor(X).type(torch.float32)     # enforce smooth-running with the model\n"
     ]
    }
   ],
   "source": [
    "losses, accuracies, train_accs = train(model, X_train_tens, y_train_tens, X_test_tens, y_test_tens, epochs=5)"
   ]
  },
  {
   "cell_type": "code",
   "execution_count": 116,
   "metadata": {},
   "outputs": [
    {
     "data": {
      "image/png": "[encoded data removed]",
      "text/plain": [
       "<Figure size 1000x1000 with 1 Axes>"
      ]
     },
     "metadata": {},
     "output_type": "display_data"
    }
   ],
   "source": [
    "def graph(accuracies, training_accs):\n",
    "    \"\"\"\n",
    "    Q:  graph out the accuracies and training accuracies.\n",
    "        make sure you label which curve is the validation/training accuracy.\n",
    "        labels and titles are required.\n",
    "\n",
    "    Inputs\n",
    "    - accuracies: list of floats with length epochs\n",
    "    - training_accs: list of floats with length epochs\n",
    "\n",
    "    Outputs\n",
    "    - None\n",
    "    \"\"\"\n",
    "    plt.figure(figsize=(10,10))\n",
    "    sns.lineplot(\n",
    "        x=np.arange(5), y=accuracies, label=\"test accuracies\"\n",
    "    )\n",
    "    sns.lineplot(\n",
    "        x=np.arange(5), y=training_accs, label=\"training accuracies\"\n",
    "    )\n",
    "    \n",
    "\n",
    "\n",
    "graph(accuracies, train_accs)"
   ]
  },
  {
   "cell_type": "code",
   "execution_count": null,
   "metadata": {},
   "outputs": [],
   "source": []
  }
 ],
 "metadata": {
  "colab": {
   "collapsed_sections": [],
   "name": "Final Project Part 2 - Classification",
   "provenance": []
  },
  "kernelspec": {
   "display_name": "Python 3 (ipykernel)",
   "language": "python",
   "name": "python3"
  },
  "language_info": {
   "codemirror_mode": {
    "name": "ipython",
    "version": 3
   },
   "file_extension": ".py",
   "mimetype": "text/x-python",
   "name": "python",
   "nbconvert_exporter": "python",
   "pygments_lexer": "ipython3",
   "version": "3.9.6"
  }
 },
 "nbformat": 4,
 "nbformat_minor": 1
}
